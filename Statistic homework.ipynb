{
 "cells": [
  {
   "cell_type": "code",
   "execution_count": 4,
   "metadata": {},
   "outputs": [
    {
     "name": "stdout",
     "output_type": "stream",
     "text": [
      "(np.float64(-0.3333333333333333), np.float64(-0.6666666666666666), np.float64(0.6666666666666667))\n"
     ]
    }
   ],
   "source": [
    "import numpy as np\n",
    "\n",
    "A = np.array([[2,-3,1],[3,1,1],[-1,-2,-1]])\n",
    "b = np.array([2,-1,1])\n",
    "\n",
    "x,y,z = np.linalg.solve(A,b)\n",
    "print((x,y,z))"
   ]
  },
  {
   "cell_type": "code",
   "execution_count": 5,
   "metadata": {},
   "outputs": [
    {
     "name": "stdout",
     "output_type": "stream",
     "text": [
      "3\n"
     ]
    }
   ],
   "source": [
    "C = np.array([3,-1,2]) \n",
    "D = np.array([0,-1,1])\n",
    "\n",
    "E = C@D\n",
    "print(E)"
   ]
  },
  {
   "cell_type": "code",
   "execution_count": 12,
   "metadata": {},
   "outputs": [
    {
     "name": "stdout",
     "output_type": "stream",
     "text": [
      "[[  1   1  -4]\n",
      " [-15  13  -4]\n",
      " [ -2   2   4]\n",
      " [ -2   1  -7]]\n",
      "Displaying J: [ -9  -1  14 -21]\n"
     ]
    }
   ],
   "source": [
    "F = np.array([[2,-3,1],[-2,-1,4],[0,2,2],[-1,-3,-2]])\n",
    "G = np.array([[3,-2,1],[1,-1,2],[-2,2,0]])\n",
    "I = np.array([1,2,3])\n",
    "H = np.matmul(F,G)\n",
    "print(H)\n",
    "J = np.matmul(H,I)\n",
    "print(f'Displaying J: {J}')"
   ]
  },
  {
   "cell_type": "code",
   "execution_count": 14,
   "metadata": {},
   "outputs": [
    {
     "name": "stdout",
     "output_type": "stream",
     "text": [
      "3.0000000000000013 -1.0000000000000002 -2.0000000000000004\n"
     ]
    }
   ],
   "source": [
    "laq1 = np.array([[1,-3,1],[2,-8,8],[-6,3,-15]])\n",
    "laq2 = np.array([4,-2,9])\n",
    "\n",
    "l,m,n = np.linalg.solve(laq1,laq2)\n",
    "print(l,m,n)"
   ]
  },
  {
   "cell_type": "code",
   "execution_count": 15,
   "metadata": {},
   "outputs": [
    {
     "name": "stdout",
     "output_type": "stream",
     "text": [
      "[[0.5        1.         0.66666667]\n",
      " [0.5        1.         0.33333333]\n",
      " [1.         3.         1.33333333]]\n"
     ]
    }
   ],
   "source": [
    "inverse = np.array([[2,4,-2],[-2,0,1],[3,-3,0]])\n",
    "print(np.linalg.inv(inverse))"
   ]
  },
  {
   "cell_type": "code",
   "execution_count": null,
   "metadata": {},
   "outputs": [],
   "source": []
  }
 ],
 "metadata": {
  "kernelspec": {
   "display_name": "Python 3",
   "language": "python",
   "name": "python3"
  },
  "language_info": {
   "codemirror_mode": {
    "name": "ipython",
    "version": 3
   },
   "file_extension": ".py",
   "mimetype": "text/x-python",
   "name": "python",
   "nbconvert_exporter": "python",
   "pygments_lexer": "ipython3",
   "version": "3.12.7"
  }
 },
 "nbformat": 4,
 "nbformat_minor": 2
}
