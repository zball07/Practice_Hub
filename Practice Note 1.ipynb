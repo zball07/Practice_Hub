{
 "cells": [
  {
   "cell_type": "code",
   "execution_count": 1,
   "metadata": {},
   "outputs": [
    {
     "name": "stdout",
     "output_type": "stream",
     "text": [
      "            scientific_name                            park_name  observations\n",
      "0        Vicia benghalensis  Great Smoky Mountains National Park            68\n",
      "1            Neovison vison  Great Smoky Mountains National Park            77\n",
      "2         Prunus subcordata               Yosemite National Park           138\n",
      "3      Abutilon theophrasti                  Bryce National Park            84\n",
      "4  Githopsis specularioides  Great Smoky Mountains National Park            85\n"
     ]
    }
   ],
   "source": [
    "import pandas as pd\n",
    "\n",
    "mushrooms = pd.read_csv(r\"C:\\Users\\Yolo's Finest\\OneDrive\\Desktop\\sqlite-tools-win-x64-3470000\\observations.csv\")\n",
    "print(mushrooms.head())"
   ]
  },
  {
   "cell_type": "code",
   "execution_count": 2,
   "metadata": {},
   "outputs": [
    {
     "name": "stdout",
     "output_type": "stream",
     "text": [
      "(23296, 3)\n"
     ]
    }
   ],
   "source": [
    "#Counting the number of (rows, columns)\n",
    "print(mushrooms.shape)"
   ]
  },
  {
   "cell_type": "code",
   "execution_count": 3,
   "metadata": {},
   "outputs": [
    {
     "name": "stdout",
     "output_type": "stream",
     "text": [
      "                     Scientific_Name                            Park_Name  \\\n",
      "0                 Vicia benghalensis  Great Smoky Mountains National Park   \n",
      "1                     Neovison vison  Great Smoky Mountains National Park   \n",
      "2                  Prunus subcordata               Yosemite National Park   \n",
      "3               Abutilon theophrasti                  Bryce National Park   \n",
      "4           Githopsis specularioides  Great Smoky Mountains National Park   \n",
      "5  Elymus virginicus var. virginicus               Yosemite National Park   \n",
      "6                   Spizella pusilla            Yellowstone National Park   \n",
      "7                  Elymus multisetus  Great Smoky Mountains National Park   \n",
      "8             Lysimachia quadrifolia               Yosemite National Park   \n",
      "9         Diphyscium cumberlandianum            Yellowstone National Park   \n",
      "\n",
      "   Observations  \n",
      "0            68  \n",
      "1            77  \n",
      "2           138  \n",
      "3            84  \n",
      "4            85  \n",
      "5           112  \n",
      "6           228  \n",
      "7            39  \n",
      "8           168  \n",
      "9           250  \n"
     ]
    }
   ],
   "source": [
    "#Changing the titles/capitalization of the lettering. Use map(), combined with str.lower or str.upper)\n",
    "mushrooms.columns = map(str.title, mushrooms.columns)\n",
    "\n",
    "print(mushrooms.head(10))"
   ]
  },
  {
   "cell_type": "code",
   "execution_count": 4,
   "metadata": {},
   "outputs": [
    {
     "name": "stdout",
     "output_type": "stream",
     "text": [
      "                            Sci_Name                            Park_Name  \\\n",
      "0                 Vicia benghalensis  Great Smoky Mountains National Park   \n",
      "1                     Neovison vison  Great Smoky Mountains National Park   \n",
      "2                  Prunus subcordata               Yosemite National Park   \n",
      "3               Abutilon theophrasti                  Bryce National Park   \n",
      "4           Githopsis specularioides  Great Smoky Mountains National Park   \n",
      "5  Elymus virginicus var. virginicus               Yosemite National Park   \n",
      "6                   Spizella pusilla            Yellowstone National Park   \n",
      "7                  Elymus multisetus  Great Smoky Mountains National Park   \n",
      "8             Lysimachia quadrifolia               Yosemite National Park   \n",
      "9         Diphyscium cumberlandianum            Yellowstone National Park   \n",
      "\n",
      "   Observations  \n",
      "0            68  \n",
      "1            77  \n",
      "2           138  \n",
      "3            84  \n",
      "4            85  \n",
      "5           112  \n",
      "6           228  \n",
      "7            39  \n",
      "8           168  \n",
      "9           250  \n"
     ]
    }
   ],
   "source": [
    "#Practice changing column names\n",
    "mushrooms = mushrooms.rename({'Scientific_Name': 'Sci_Name'}, axis=1) #axis1 refers to columns and axis0 refers to rows.\n",
    "\n",
    "print(mushrooms.head(10))"
   ]
  },
  {
   "cell_type": "code",
   "execution_count": 5,
   "metadata": {},
   "outputs": [
    {
     "data": {
      "text/plain": [
       "Sci_Name        5541\n",
       "Park_Name          4\n",
       "Observations     304\n",
       "dtype: int64"
      ]
     },
     "execution_count": 5,
     "metadata": {},
     "output_type": "execute_result"
    }
   ],
   "source": [
    "#.nunique() counts the number of unique values in each column\n",
    "mushrooms.nunique()"
   ]
  },
  {
   "cell_type": "markdown",
   "metadata": {},
   "source": [
    "**Missing Data**"
   ]
  },
  {
   "cell_type": "code",
   "execution_count": 6,
   "metadata": {},
   "outputs": [
    {
     "name": "stdout",
     "output_type": "stream",
     "text": [
      "3\n",
      "Sci_Name        0\n",
      "Park_Name       0\n",
      "Observations    0\n",
      "dtype: int64\n"
     ]
    }
   ],
   "source": [
    "#Using .isna().sum() to count the number of missing values in each column\n",
    "empty_cells = mushrooms.isnull().sum()\n",
    "print(empty_cells.count())\n",
    "print(empty_cells)\n"
   ]
  },
  {
   "cell_type": "markdown",
   "metadata": {},
   "source": [
    "Use .where() method to replace invalid data. Reference the column and where is the same as conditioning in SQL. "
   ]
  },
  {
   "cell_type": "markdown",
   "metadata": {},
   "source": [
    "Use .str.lstrip() to remove elements on the left side. Ex. mushrooms['names'] = mushrooms['names'].str.lstrip('any portion of the name'). "
   ]
  },
  {
   "cell_type": "markdown",
   "metadata": {},
   "source": [
    "Use .melt(id_vars=['category column'], var_name=['replace name'], value_name=\"coumn name for the values originally in the columns\") to combine 2 columns into one and rename them in the same move. "
   ]
  },
  {
   "cell_type": "markdown",
   "metadata": {},
   "source": [
    "from sklearn.experimental import enable_iterative_imputer\n",
    "from sklearn.impute import IterativeImputer\n",
    "\n",
    "both are required to complete a prediction on missing values based on the surrounding data. "
   ]
  },
  {
   "cell_type": "markdown",
   "metadata": {},
   "source": [
    "# Linear Regression Model\n",
    "\n",
    "from sklearn.linear_model import LinearRegression\n",
    "\n",
    "**Variable the model**\n",
    "zak_model = LinearRegression()\n",
    "\n",
    "**Fit the model**\n",
    "zak_model.fit(x_data, y_data) #input two different datasets of similiar columns\n",
    "\n",
    "**Predict**\n",
    "predictions = zak_model.predict(x_data)\n",
    "\n",
    "**to display** \n",
    "call zak_model.score() returns the coefficient of determination R^2"
   ]
  },
  {
   "cell_type": "markdown",
   "metadata": {},
   "source": [
    "## Naive Bayes\n",
    "\n",
    "from sklearn.naive_bayes import MultinomialNB\n",
    "\n",
    "bay_model = MultinomialNB\n",
    "Fit the model\n",
    "bay_model.fit(x_training_data, y_training_data)\n",
    "\n",
    "Predict:\n",
    "predicitions_bay = bay_model.predict(your_x_data)\n",
    "\n",
    "probabilities = bay_model.predict_proba(your_x_data) #Returns a list of probabilities of each class for every data point. "
   ]
  },
  {
   "cell_type": "markdown",
   "metadata": {},
   "source": [
    "# K-Nearest Neighbors\n",
    "\n",
    "**Import and create the model:**\n",
    "\n",
    "from sklearn.neighbors import KNeighborsClassifier\n",
    "\n",
    "your_model = KNeighborsClassifier()\n",
    "\n",
    "**Fit:**\n",
    "\n",
    "your_model.fit(x_training_data, y_training_data)\n",
    "\n",
    "**Predict:**\n",
    "\n",
    "predicitions_k = your_model.predict(your_x_data)\n",
    "\n",
    "probabilities = your_model.predict_prob(your_x_data)"
   ]
  },
  {
   "cell_type": "markdown",
   "metadata": {},
   "source": [
    "# K-Means\n",
    "\n",
    "**Import and create the model**\n",
    "\n",
    "from sklearn.cluster import KMeans\n",
    "\n",
    "your_model = KMeans(n_cluster=4, init='random')\n",
    "\n",
    "n_clusters: number of clusters to form and number of centroids to generate\n",
    "\n",
    "init: method for initialization\n",
    "\n",
    "    k-means++: K-Means++ [default]\n",
    "    random: K-Means\n",
    "\n",
    "random_state: the seed used by the random number generator [optional]\n",
    "\n",
    "**Fit:**\n",
    "\n",
    "your_model.fit(x_training_data)\n",
    "\n",
    "**Predict:**\n",
    "\n",
    "predictions = your_model.predict(your_x_data)"
   ]
  },
  {
   "cell_type": "markdown",
   "metadata": {},
   "source": [
    "# Validating the Model\n",
    "\n",
    "**Import and print accuracy, recall, precision, and F1 score:**\n",
    "\n",
    "from sklearn.metrics import accuracy_score, recall_score, precision_score, f1_score\n",
    "\n",
    "print(accuracy_score(true_labels, guesses))\n",
    "print(recall_score(true_labels, guessess))\n",
    "print(precision_score(true_labels, guessess))\n",
    "print(f1_score(true_labels, guessess))\n",
    "\n",
    "**Import and print the confusion matrix:**\n",
    "\n",
    "from sklearn.metrics import confusion_matrix\n",
    "\n",
    "print(confusion_matrix(true_labels, guessess))"
   ]
  },
  {
   "cell_type": "markdown",
   "metadata": {},
   "source": [
    "# Training Sets and Test Sets\n",
    "\n",
    "from sklearn.model_selection import train_test_split\n",
    "\n",
    "x_train, x_test, y_train, y_test = train_test_split(x, y, train_size=0.8, test_size=0.2)\n",
    "\n",
    "- train_size: the proportion of the dataset to include in the train split\n",
    "\n",
    "- test_size: the proportion of the dataset to include in the test split\n",
    "\n",
    "- random_state: the seed used by the random number generator [optional]"
   ]
  },
  {
   "cell_type": "code",
   "execution_count": 1,
   "metadata": {},
   "outputs": [
    {
     "ename": "SyntaxError",
     "evalue": "expression cannot contain assignment, perhaps you meant \"==\"? (2508163813.py, line 32)",
     "output_type": "error",
     "traceback": [
      "\u001b[1;36m  Cell \u001b[1;32mIn[1], line 32\u001b[1;36m\u001b[0m\n\u001b[1;33m    Grade.is_passing(self.score=50)\u001b[0m\n\u001b[1;37m                     ^\u001b[0m\n\u001b[1;31mSyntaxError\u001b[0m\u001b[1;31m:\u001b[0m expression cannot contain assignment, perhaps you meant \"==\"?\n"
     ]
    }
   ],
   "source": [
    "class Student: \n",
    "    def __init__(self, name, year):\n",
    "        self.name = name\n",
    "        self.year = year\n",
    "        self.grades = []\n",
    "        self.attendance = {}\n",
    "    def add_grade(self, grade):\n",
    "      if type(grade) is Grade:\n",
    "        self.grades.append(grade)\n",
    "      else:\n",
    "        pass\n",
    "    def get_average(self):\n",
    "      total = sum(grade.score for grade in self.grades)\n",
    "      return total / len(self.grades) if self.grades else 0\n",
    "\n",
    "roger = Student('Roger van der Weyden', 10)\n",
    "sandro = Student('Sandro Botticelli', 12)\n",
    "pieter = Student('Pieter Bruegel the Elder', 8)\n",
    "\n",
    "class Grade:\n",
    "  minimum_passing = 65\n",
    "  def __init__(self, score):\n",
    "    self.score = score\n",
    "  def is_passing(self, score):\n",
    "    if self.score >= Grade.minimum_passing:\n",
    "      return 'Passing'\n",
    "    else:\n",
    "      return 'Failing' \n",
    "\n",
    "pieter.add_grade(Grade(100))\n",
    "\n",
    "Grade.is_passing(se"
   ]
  },
  {
   "cell_type": "code",
   "execution_count": null,
   "metadata": {},
   "outputs": [],
   "source": []
  }
 ],
 "metadata": {
  "kernelspec": {
   "display_name": "Python 3",
   "language": "python",
   "name": "python3"
  },
  "language_info": {
   "codemirror_mode": {
    "name": "ipython",
    "version": 3
   },
   "file_extension": ".py",
   "mimetype": "text/x-python",
   "name": "python",
   "nbconvert_exporter": "python",
   "pygments_lexer": "ipython3",
   "version": "3.12.7"
  }
 },
 "nbformat": 4,
 "nbformat_minor": 2
}
